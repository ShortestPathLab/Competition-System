{
 "cells": [
  {
   "cell_type": "code",
   "execution_count": 1,
   "metadata": {},
   "outputs": [],
   "source": [
    "import pandas as pd\n",
    "import os\n",
    "from IPython.core.display import HTML"
   ]
  },
  {
   "cell_type": "code",
   "execution_count": 2,
   "metadata": {},
   "outputs": [],
   "source": [
    "def local_pdf_path(row):\n",
    "    mapname = row[\"map\"].removesuffix(\".map\")\n",
    "    path = \"./benchmarks/%s/%s.pdf\" % (row[\"domain\"], mapname)\n",
    "    return path\n",
    "\n",
    "def local_png_path(row):\n",
    "    mapname = row[\"map\"].removesuffix(\".map\")\n",
    "    path = \"../benchmarks/%s/%s.png\" % (row[\"domain\"], mapname)\n",
    "    return path\n",
    "\n",
    "def png_path(row):\n",
    "    mapname = row[\"map\"].removesuffix(\".map\")\n",
    "    url = \"https://movingai.com/benchmarks/%s/%s_small.png\" % (row[\"domain\"], mapname)\n",
    "    return url\n",
    "\n",
    "def pdf2html(path):\n",
    "    return '<embed src=\"' + path + 'width=\"60px\" height=\"60px\"'\n",
    "\n",
    "def png2html(path):\n",
    "    return '<a href=\"%s\" target=\"_blank\"><img src=\"%s\" width=\"100px\"></a>' % (path, path)\n",
    "\n",
    "def pnglist2html(pngs):\n",
    "    return \" \".join([png2html(i) for i in pngs])\n"
   ]
  },
  {
   "cell_type": "code",
   "execution_count": 3,
   "metadata": {},
   "outputs": [
    {
     "data": {
      "text/plain": [
       "(659, 5)"
      ]
     },
     "execution_count": 3,
     "metadata": {},
     "output_type": "execute_result"
    }
   ],
   "source": [
    "df = pd.read_csv(\"meta-info.csv\")\n",
    "desc = pd.read_csv(\"labels.csv\")\n",
    "df = pd.merge(df, desc, on=[\"domain\", \"label\"])\n",
    "df[\"preview\"] = df.apply(lambda x: local_png_path(x), axis=1)\n",
    "df.shape"
   ]
  },
  {
   "cell_type": "code",
   "execution_count": 4,
   "metadata": {},
   "outputs": [
    {
     "data": {
      "text/plain": [
       "(824, 16)"
      ]
     },
     "execution_count": 4,
     "metadata": {},
     "output_type": "execute_result"
    }
   ],
   "source": [
    "# load meta info\n",
    "files = os.listdir(\"domains\")\n",
    "dfs = []\n",
    "for i in files:\n",
    "    t = pd.read_csv(\"domains/\"+i, sep=\"\\t\")\n",
    "    t[\"domain\"] = i.removesuffix(\".csv\")\n",
    "    t[\"map\"] = t[\"map\"] + \".map\"\n",
    "    dfs.append(t)\n",
    "metas = pd.concat(dfs)\n",
    "metas.shape"
   ]
  },
  {
   "cell_type": "code",
   "execution_count": 5,
   "metadata": {},
   "outputs": [
    {
     "data": {
      "text/plain": [
       "(398, 20)"
      ]
     },
     "execution_count": 5,
     "metadata": {},
     "output_type": "execute_result"
    }
   ],
   "source": [
    "# add meta columns\n",
    "t = pd.merge(df, metas, on=[\"map\", \"domain\"])\n",
    "# filter out similar maps\n",
    "with open(\"../ignore.txt\", \"r\") as f:\n",
    "    ignores = [i.strip().split(\"/\")[-1] for i in f.readlines()]\n",
    "t = t[~t[\"map\"].isin(ignores)].reset_index()\n",
    "t.shape"
   ]
  },
  {
   "cell_type": "code",
   "execution_count": 7,
   "metadata": {},
   "outputs": [],
   "source": [
    "# filter by top-k gen-mean\n",
    "topk = 5\n",
    "idx = t.groupby([\"domain\", \"label\", \"desc\"])[\"gen-mean\"].nlargest(topk).reset_index()[\"level_3\"]\n",
    "selected = t.iloc[idx].groupby([\"domain\", \"label\", \"desc\"]).apply(lambda x: x[\"preview\"].to_list())\n",
    "selected = selected.to_frame(\"previews\").reset_index()\n",
    "selected.to_html(\"selected.html\", escape=False, formatters=dict(previews=pnglist2html))"
   ]
  },
  {
   "cell_type": "code",
   "execution_count": 8,
   "metadata": {},
   "outputs": [],
   "source": [
    "# create selected map folder\n",
    "selected_maps = t.iloc[idx][[\"map\", \"domain\"]]\n",
    "for domain in selected_maps[\"domain\"].unique():\n",
    "    os.system(\"mkdir -p ./selected/%s\" % domain)\n",
    "for idx, row in selected_maps.iterrows():\n",
    "    domain, mapname = row[\"domain\"], row[\"map\"]\n",
    "    os.system(\"cp ../benchmarks/%s/%s ./selected/%s/\" % (domain, mapname, domain))"
   ]
  },
  {
   "cell_type": "code",
   "execution_count": 9,
   "metadata": {},
   "outputs": [],
   "source": [
    "t = df.groupby([\"domain\", \"label\", \"desc\"]).apply(lambda x: x[\"preview\"].to_list())\n",
    "t = t.to_frame(\"previews\").reset_index()\n",
    "t.to_html(\"visual.html\", escape=False, formatters=dict(previews=pnglist2html), columns=[\"domain\", \"label\", \"desc\", \"previews\"])"
   ]
  }
 ],
 "metadata": {
  "interpreter": {
   "hash": "e7370f93d1d0cde622a1f8e1c04877d8463912d04d973331ad4851f04de6915a"
  },
  "kernelspec": {
   "display_name": "Python 3.10.2 64-bit",
   "language": "python",
   "name": "python3"
  },
  "language_info": {
   "codemirror_mode": {
    "name": "ipython",
    "version": 3
   },
   "file_extension": ".py",
   "mimetype": "text/x-python",
   "name": "python",
   "nbconvert_exporter": "python",
   "pygments_lexer": "ipython3",
   "version": "3.10.4"
  },
  "orig_nbformat": 4
 },
 "nbformat": 4,
 "nbformat_minor": 2
}
